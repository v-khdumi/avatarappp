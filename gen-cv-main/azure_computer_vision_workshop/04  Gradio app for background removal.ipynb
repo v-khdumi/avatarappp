{
 "cells": [
  {
   "cell_type": "markdown",
   "id": "af3cd8d4",
   "metadata": {},
   "source": [
    "# Azure Computer Vision 4 (Florence)\n",
    "\n",
    "## Background removal with Azure Computer Vision 4 and Gradio\n",
    "\n",
    "![Image](florence.jpg)\n",
    "\n",
    "**The Image Analysis** service can divide images into multiple segments or regions to help the user identify different objects or parts of the image. **Background removal** creates an alpha matte that separates the foreground object from the background in an image.\n",
    "\n",
    "\n",
    "This feature provides two possible outputs based on the customer's needs:\n",
    "\n",
    "- The **foreground object** of the image without the background. This edited image shows the foreground object and makes the background transparent, allowing the foreground to be placed on a new background.\n",
    "- An **alpha matte** that shows the opacity of the detected foreground object. This matte can be used to separate the foreground object from the background for further processing.\n",
    "\n",
    "This service is currently in preview, and the API may change in the future.\n",
    "\n",
    "https://learn.microsoft.com/en-us/azure/cognitive-services/computer-vision/concept-background-removal\n",
    "\n",
    "Azure Computer Vision updates: https://learn.microsoft.com/en-us/azure/cognitive-services/computer-vision/whats-new#march-2023\n",
    "<br><br>\n",
    "> Serge Retkowsky | Microsoft | https://github.com/retkowsky | 3rd of May, 2023"
   ]
  },
  {
   "cell_type": "markdown",
   "id": "fc055702",
   "metadata": {},
   "source": [
    "![Image](backgroundremovalimage.jpg)"
   ]
  },
  {
   "cell_type": "code",
   "execution_count": 1,
   "id": "29492b44",
   "metadata": {
    "gather": {
     "logged": 1683118594773
    }
   },
   "outputs": [],
   "source": [
    "import gradio as gr\n",
    "import io\n",
    "import os\n",
    "import requests\n",
    "import sys\n",
    "\n",
    "from dotenv import load_dotenv\n",
    "from PIL import Image"
   ]
  },
  {
   "cell_type": "code",
   "execution_count": 2,
   "id": "a425a50c",
   "metadata": {
    "gather": {
     "logged": 1683118594854
    }
   },
   "outputs": [
    {
     "data": {
      "text/plain": [
       "'3.8.5 (default, Sep  4 2020, 07:30:14) \\n[GCC 7.3.0]'"
      ]
     },
     "execution_count": 2,
     "metadata": {},
     "output_type": "execute_result"
    }
   ],
   "source": [
    "sys.version"
   ]
  },
  {
   "cell_type": "code",
   "execution_count": 3,
   "id": "dec10de9",
   "metadata": {
    "gather": {
     "logged": 1683118594905
    }
   },
   "outputs": [],
   "source": [
    "load_dotenv(\"azure.env\")\n",
    "\n",
    "azure_cv_key = os.getenv(\"azure_cv_key\")\n",
    "azure_cv_endpoint = os.getenv(\"azure_cv_endpoint\")"
   ]
  },
  {
   "cell_type": "code",
   "execution_count": 4,
   "id": "86598f21",
   "metadata": {
    "gather": {
     "logged": 1683118594971
    }
   },
   "outputs": [],
   "source": [
    "def remove_background_from_image(image, endpoint=azure_cv_endpoint, key=azure_cv_key):\n",
    "    \"\"\"\n",
    "    Remove background from image using Azure Computer Vision\n",
    "    \"\"\"\n",
    "    url = (\n",
    "        endpoint\n",
    "        + \"/computervision/imageanalysis:segment?api-version=2023-02-01-preview&mode=\"\n",
    "    )\n",
    "    remove_background_url = url + \"backgroundRemoval\"  # For removing the background\n",
    "    get_mask_object_url = url + \"foregroundMatting\"  # Mask of the object\n",
    "\n",
    "    headers = {\n",
    "        \"Content-type\": \"application/octet-stream\",\n",
    "        \"Ocp-Apim-Subscription-Key\": key,\n",
    "    }\n",
    "\n",
    "    with io.BytesIO() as output:\n",
    "        image.save(output, format=\"JPEG\")\n",
    "        image_data = output.getvalue()\n",
    "\n",
    "    with requests.Session() as session:\n",
    "        try:\n",
    "            r_wobackground = session.post(\n",
    "                remove_background_url, data=image_data, headers=headers\n",
    "            )\n",
    "            r_mask = session.post(get_mask_object_url, data=image_data, headers=headers)\n",
    "        except requests.exceptions.RequestException as e:\n",
    "            raise SystemExit(e)\n",
    "\n",
    "    wo_background_image = Image.open(io.BytesIO(r_wobackground.content))\n",
    "    mask_image = Image.open(io.BytesIO(r_mask.content))\n",
    "\n",
    "    return wo_background_image, mask_image"
   ]
  },
  {
   "cell_type": "code",
   "execution_count": 5,
   "id": "b3efc6d3",
   "metadata": {
    "gather": {
     "logged": 1683118605808
    }
   },
   "outputs": [
    {
     "name": "stdout",
     "output_type": "stream",
     "text": [
      "Running on local URL:  http://127.0.0.1:7860\n",
      "Running on public URL: https://2b7d19483277c6948b.gradio.live\n",
      "\n",
      "This share link expires in 72 hours. For free permanent hosting and GPU upgrades (NEW!), check out Spaces: https://huggingface.co/spaces\n"
     ]
    },
    {
     "data": {
      "text/html": [
       "<div><iframe src=\"https://2b7d19483277c6948b.gradio.live\" width=\"100%\" height=\"500\" allow=\"autoplay; camera; microphone; clipboard-read; clipboard-write;\" frameborder=\"0\" allowfullscreen></iframe></div>"
      ],
      "text/plain": [
       "<IPython.core.display.HTML object>"
      ]
     },
     "metadata": {},
     "output_type": "display_data"
    },
    {
     "data": {
      "text/plain": []
     },
     "execution_count": 5,
     "metadata": {},
     "output_type": "execute_result"
    }
   ],
   "source": [
    "logo = \"https://github.com/retkowsky/images/blob/master/logoazureCV.png?raw=true\"\n",
    "image = \"<center> <img src= {} width=50px></center>\".format(logo)\n",
    "\n",
    "samples = [\n",
    "    \"images/tomato.jpg\",\n",
    "    \"images/fruits.jpg\",\n",
    "    \"images/drinks.jpg\",\n",
    "    \"images/car.jpg\",\n",
    "]\n",
    "\n",
    "header = \"Background removal with Azure Computer Vision\"\n",
    "\n",
    "# Define Gradio interface\n",
    "inputs = gr.Image(type=\"pil\", label=\"Input Image\")\n",
    "outputs = [\n",
    "    gr.Image(label=\"Image without background\", type=\"pil\"),\n",
    "    gr.Image(label=\"Mask\", type=\"pil\"),\n",
    "]\n",
    "\n",
    "# Gradio Webapp\n",
    "webapp = gr.Interface(\n",
    "    remove_background_from_image,\n",
    "    inputs,\n",
    "    outputs,\n",
    "    title=header,\n",
    "    description=image,\n",
    "    examples=samples,\n",
    "    theme=\"gstaff/sketch\",  # https://huggingface.co/spaces/gradio/theme-gallery\n",
    ")\n",
    "\n",
    "# Running the webapp\n",
    "webapp.launch(share=True)"
   ]
  },
  {
   "cell_type": "code",
   "execution_count": null,
   "id": "33c7270d",
   "metadata": {},
   "outputs": [],
   "source": []
  }
 ],
 "metadata": {
  "kernel_info": {
   "name": "python3"
  },
  "kernelspec": {
   "display_name": "Python 3 (ipykernel)",
   "language": "python",
   "name": "python3"
  },
  "language_info": {
   "codemirror_mode": {
    "name": "ipython",
    "version": 3
   },
   "file_extension": ".py",
   "mimetype": "text/x-python",
   "name": "python",
   "nbconvert_exporter": "python",
   "pygments_lexer": "ipython3",
   "version": "3.8.5"
  },
  "microsoft": {
   "ms_spell_check": {
    "ms_spell_check_language": "en"
   }
  },
  "nteract": {
   "version": "nteract-front-end@1.0.0"
  }
 },
 "nbformat": 4,
 "nbformat_minor": 5
}
