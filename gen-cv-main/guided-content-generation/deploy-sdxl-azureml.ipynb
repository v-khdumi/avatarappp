{
  "cells": [
    {
      "cell_type": "markdown",
      "metadata": {
        "nteract": {
          "transient": {
            "deleting": false
          }
        }
      },
      "source": [
        "## Deploy SDXL as Online Endpoint on Azure Machine Learning\n",
        "This notebook was developed and tested on an Azure ML Compute Instance using the `Python 3.10 - SDK V2` Jupyter kernel. "
      ]
    },
    {
      "cell_type": "code",
      "execution_count": 1,
      "metadata": {
        "gather": {
          "logged": 1723620070767
        }
      },
      "outputs": [],
      "source": [
        "# import required libraries\n",
        "from azure.ai.ml import MLClient\n",
        "from azure.ai.ml.entities import ManagedOnlineEndpoint, ManagedOnlineDeployment, Model, Environment, CodeConfiguration, OnlineRequestSettings \n",
        "from azure.identity import DefaultAzureCredential\n",
        "\n",
        "# enter details of your Azure Machine Learning workspace\n",
        "subscription_id = \"<your subscription id>\"\n",
        "resource_group = \"<resource group name>\"\n",
        "workspace = \"<Azure ML workspace name>\""
      ]
    },
    {
      "cell_type": "code",
      "execution_count": 2,
      "metadata": {
        "gather": {
          "logged": 1723620071155
        }
      },
      "outputs": [],
      "source": [
        "ml_client = MLClient(DefaultAzureCredential(), subscription_id, resource_group, workspace)\n",
        "\n",
        "computes = ml_client.compute.list()"
      ]
    },
    {
      "cell_type": "code",
      "execution_count": 3,
      "metadata": {
        "gather": {
          "logged": 1723620073287
        }
      },
      "outputs": [
        {
          "data": {
            "text/plain": [
              "<azure.core.polling._poller.LROPoller at 0x7f8ec4adf370>"
            ]
          },
          "execution_count": 3,
          "metadata": {},
          "output_type": "execute_result"
        }
      ],
      "source": [
        "# Define an endpoint name\n",
        "endpoint_name = \"image-gen\"\n",
        "\n",
        "# create an online endpoint\n",
        "endpoint = ManagedOnlineEndpoint(\n",
        "    name = endpoint_name, \n",
        "    description=\"Stable Diffusion Models\",\n",
        "    auth_mode=\"key\"\n",
        ")\n",
        "\n",
        "ml_client.online_endpoints.begin_create_or_update(endpoint)"
      ]
    },
    {
      "cell_type": "code",
      "execution_count": 4,
      "metadata": {
        "gather": {
          "logged": 1723620073367
        }
      },
      "outputs": [],
      "source": [
        "endpoint.scoring_uri"
      ]
    },
    {
      "cell_type": "code",
      "execution_count": 5,
      "metadata": {
        "gather": {
          "logged": 1723620075597
        }
      },
      "outputs": [
        {
          "data": {
            "text/plain": [
              "Model({'job_name': None, 'intellectual_property': None, 'is_anonymous': False, 'auto_increment_version': False, 'auto_delete_setting': None, 'name': 'sd-dummy', 'description': 'A dummy model for SD deployment.', 'tags': {}, 'properties': {}, 'print_as_yaml': True, 'id': '/subscriptions/92645b1b-8a8a-4693-b8e2-c214a523fe40/resourceGroups/energy/providers/Microsoft.MachineLearningServices/workspaces/energy/models/sd-dummy/versions/17', 'Resource__source_path': None, 'base_path': '/mnt/batch/tasks/shared/LS_root/mounts/clusters/akopp1/code/Users/akopp', 'creation_context': <azure.ai.ml.entities._system_data.SystemData object at 0x7f8ec410be20>, 'serialize': <msrest.serialization.Serializer object at 0x7f8ec410b2b0>, 'version': '17', 'latest_version': None, 'path': 'azureml://subscriptions/92645b1b-8a8a-4693-b8e2-c214a523fe40/resourceGroups/energy/workspaces/energy/datastores/workspaceblobstore/paths/LocalUpload/5f9c2a69a8e7b55a6cac71baa26db1b6/dummy-model.txt', 'datastore': None, 'utc_time_created': None, 'flavors': None, 'arm_type': 'model_version', 'type': 'custom_model', 'stage': 'Development'})"
            ]
          },
          "execution_count": 5,
          "metadata": {},
          "output_type": "execute_result"
        }
      ],
      "source": [
        "from azure.ai.ml.constants import AssetTypes\n",
        "model_name = \"sd-dummy\" # dummy model for deployment. The actual SDXL model will automatically be downloaded by the scoring script\n",
        "\n",
        "model = Model(\n",
        "    path=\"sdxl-azureml-assets/dummy-model.txt\",\n",
        "    type=AssetTypes.CUSTOM_MODEL,\n",
        "    name=model_name,\n",
        "    description=\"A dummy model for SD deployment.\",\n",
        ")\n",
        "ml_client.models.create_or_update(model)"
      ]
    },
    {
      "cell_type": "code",
      "execution_count": 6,
      "metadata": {
        "gather": {
          "logged": 1723620075704
        }
      },
      "outputs": [],
      "source": [
        "env = Environment(\n",
        "    conda_file=\"sdxl-azureml-assets/conda.yaml\",\n",
        "    image=\"mcr.microsoft.com/azureml/curated/minimal-ubuntu20.04-py38-cuda11.6.2-gpu-inference:24\",\n",
        ")"
      ]
    },
    {
      "cell_type": "code",
      "execution_count": 10,
      "metadata": {
        "gather": {
          "logged": 1723624082458
        }
      },
      "outputs": [
        {
          "name": "stderr",
          "output_type": "stream",
          "text": [
            "Check: endpoint image-gen exists\n"
          ]
        },
        {
          "data": {
            "text/plain": [
              "<azure.core.polling._poller.LROPoller at 0x7f8ebd743d00>"
            ]
          },
          "execution_count": 10,
          "metadata": {},
          "output_type": "execute_result"
        },
        {
          "name": "stdout",
          "output_type": "stream",
          "text": [
            "......................."
          ]
        }
      ],
      "source": [
        "req_timeout = OnlineRequestSettings(request_timeout_ms=90000, max_queue_wait_ms=900000)\n",
        "\n",
        "deployment = ManagedOnlineDeployment(\n",
        "    name='sdxl',\n",
        "    endpoint_name=endpoint_name,\n",
        "    model=model,\n",
        "    environment= env,\n",
        "    code_configuration = CodeConfiguration(code='sdxl-azureml-assets', scoring_script='score.py'),\n",
        "    instance_type = 'Standard_NC24ads_A100_v4',\n",
        "    instance_count=1,\n",
        "    request_settings=req_timeout\n",
        ")\n",
        "\n",
        "ml_client.online_deployments.begin_create_or_update(deployment)"
      ]
    },
    {
      "cell_type": "code",
      "execution_count": null,
      "metadata": {
        "gather": {
          "logged": 1723620076414
        }
      },
      "outputs": [],
      "source": [
        "deployment"
      ]
    },
    {
      "cell_type": "code",
      "execution_count": null,
      "metadata": {},
      "outputs": [],
      "source": []
    }
  ],
  "metadata": {
    "kernel_info": {
      "name": "python310-sdkv2"
    },
    "kernelspec": {
      "display_name": "Python 3.10 - SDK v2",
      "language": "python",
      "name": "python310-sdkv2"
    },
    "language_info": {
      "codemirror_mode": {
        "name": "ipython",
        "version": 3
      },
      "file_extension": ".py",
      "mimetype": "text/x-python",
      "name": "python",
      "nbconvert_exporter": "python",
      "pygments_lexer": "ipython3",
      "version": "3.10.11"
    },
    "microsoft": {
      "host": {
        "AzureML": {
          "notebookHasBeenCompleted": true
        }
      },
      "ms_spell_check": {
        "ms_spell_check_language": "en"
      }
    },
    "nteract": {
      "version": "nteract-front-end@1.0.0"
    }
  },
  "nbformat": 4,
  "nbformat_minor": 2
}
